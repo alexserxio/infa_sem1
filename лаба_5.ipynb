{
  "nbformat": 4,
  "nbformat_minor": 0,
  "metadata": {
    "colab": {
      "provenance": [],
      "authorship_tag": "ABX9TyPd5LCqrN1ugNGyPgqe1LGJ",
      "include_colab_link": true
    },
    "kernelspec": {
      "name": "python3",
      "display_name": "Python 3"
    },
    "language_info": {
      "name": "python"
    }
  },
  "cells": [
    {
      "cell_type": "markdown",
      "metadata": {
        "id": "view-in-github",
        "colab_type": "text"
      },
      "source": [
        "<a href=\"https://colab.research.google.com/github/alexserxio/infa_sem1/blob/master/%D0%BB%D0%B0%D0%B1%D0%B0_5.ipynb\" target=\"_parent\"><img src=\"https://colab.research.google.com/assets/colab-badge.svg\" alt=\"Open In Colab\"/></a>"
      ]
    },
    {
      "cell_type": "code",
      "execution_count": null,
      "metadata": {
        "colab": {
          "base_uri": "https://localhost:8080/"
        },
        "id": "6er238cqoYbW",
        "outputId": "b84740e0-2910-4fe2-bc06-aa05da43afa8"
      },
      "outputs": [
        {
          "output_type": "stream",
          "name": "stdout",
          "text": [
            "Питание от обоих генераторов\n"
          ]
        }
      ],
      "source": [
        "#Проверка наличия у потребителя питания\n",
        "#Открыт файл значений\n",
        "f=open('data1.txt', 'r')\n",
        "#Секции генераторов\n",
        "G1=int(f.readline())\n",
        "G2=int(f.readline())\n",
        "#Секции шин\n",
        "SS1=int(f.readline())\n",
        "SS2=int(f.readline())\n",
        "SS3=int(f.readline())\n",
        "SS4=int(f.readline())\n",
        "SS5=int(f.readline())\n",
        "#Воздушные линии\n",
        "VL1=int(f.readline())\n",
        "VL2=int(f.readline())\n",
        "#Кабельные Линии\n",
        "KL1=int(f.readline())\n",
        "KL2=int(f.readline())\n",
        "KL3=int(f.readline())\n",
        "# Файл значений закрыт\n",
        "f.close()\n",
        "v1=G1 and SS1 and VL1 and SS3\n",
        "v2=G2 and SS2 and VL2 and SS4 and KL1 and SS3\n",
        "v3=G2 and SS2 and VL2 and SS4 and KL3 and SS5 and KL2 and SS3\n",
        "if v1 and(v2 or v3):\n",
        "   print('Питание от обоих генераторов')\n",
        "elif v1:\n",
        "   print('Питание от генератора №1')\n",
        "elif v2 or v3:\n",
        "    print('Питание от генератора №2')\n",
        "elif not(v1*(v2+v3)):\n",
        "   print('Нет питания')"
      ]
    }
  ]
}