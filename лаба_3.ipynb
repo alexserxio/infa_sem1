{
  "nbformat": 4,
  "nbformat_minor": 0,
  "metadata": {
    "colab": {
      "provenance": [],
      "authorship_tag": "ABX9TyPYPk5sWvE6j436CnBeotH4",
      "include_colab_link": true
    },
    "kernelspec": {
      "name": "python3",
      "display_name": "Python 3"
    },
    "language_info": {
      "name": "python"
    }
  },
  "cells": [
    {
      "cell_type": "markdown",
      "metadata": {
        "id": "view-in-github",
        "colab_type": "text"
      },
      "source": [
        "<a href=\"https://colab.research.google.com/github/alexserxio/infa_sem1/blob/master/%D0%BB%D0%B0%D0%B1%D0%B0_3.ipynb\" target=\"_parent\"><img src=\"https://colab.research.google.com/assets/colab-badge.svg\" alt=\"Open In Colab\"/></a>"
      ]
    },
    {
      "cell_type": "code",
      "execution_count": null,
      "metadata": {
        "colab": {
          "base_uri": "https://localhost:8080/",
          "height": 130
        },
        "id": "U2DuCZv2qhQw",
        "outputId": "baafac17-37ae-4e8a-9799-9d80d5d6389f"
      },
      "outputs": [
        {
          "output_type": "error",
          "ename": "SyntaxError",
          "evalue": "ignored",
          "traceback": [
            "\u001b[0;36m  File \u001b[0;32m\"<ipython-input-14-b2a756df3d25>\"\u001b[0;36m, line \u001b[0;32m20\u001b[0m\n\u001b[0;31m    r5678=1/(1/r56)+1/r78)\u001b[0m\n\u001b[0m                         ^\u001b[0m\n\u001b[0;31mSyntaxError\u001b[0m\u001b[0;31m:\u001b[0m unmatched ')'\n"
          ]
        }
      ],
      "source": [
        "#Расчёт эквивалентного сопротивления для заданной схемы\n",
        "#Откроем файл с сопротивлениями\n",
        "f=open('data.txt', 'r')\n",
        "#Значения из файла зададим переменным\n",
        "r1=float(f.readline())\n",
        "r2=float(f.readline())\n",
        "r3=float(f.readline())\n",
        "r4=float(f.readline())\n",
        "r5=float(f.readline())\n",
        "r6=float(f.readline())\n",
        "r7=float(f.readline())\n",
        "r8=float(f.readline())\n",
        "#Закроем файл значений\n",
        "f.close\n",
        "#Произведём расчёт сопротивления для параллельного сопротивления резисторов R56\n",
        "r56=1/(1/r5+1/r6)\n",
        "#Произведём расчёт сопротивления для параллельного сопротивления резисторов R78\n",
        "r78=1/(1/r7)+(1/r8)\n",
        "#Произведём расчёт сопротивления для параллельного сопротивления резисторов R5678\n",
        "r5678=1/(1/r56)+(1/r78)\n",
        "#Произведём расчёт сопротивления для всей цепи \n",
        "rq=r1+r2+r3+r4+r5678\n",
        "#Выведем значения экв.сопротивления\n",
        "if rq<0:\n",
        "  print('Не соответствует физ.законам')\n",
        "print('Эквивалентное сопротивление цепи =', rq)\n",
        "\n",
        "\n"
      ]
    }
  ]
}